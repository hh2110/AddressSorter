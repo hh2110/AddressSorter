{
 "cells": [
  {
   "cell_type": "code",
   "execution_count": null,
   "metadata": {},
   "outputs": [],
   "source": [
    "import math\n",
    "import numpy as np\n",
    "import matplotlib.pyplot as plt\n",
    "import pandas as pd\n",
    "from gmplot import gmplot\n",
    "import googlemaps\n",
    "import random\n",
    "import folium\n",
    "from folium.plugins import HeatMap\n",
    "import os"
   ]
  },
  {
   "cell_type": "code",
   "execution_count": null,
   "metadata": {},
   "outputs": [],
   "source": [
    "# read in csv as df (with the first column as index_col)\n",
    "data = pd.read_csv(\"./data/Jan19_SH.csv\", index_col=0)\n",
    "\n",
    "# remove unwanted columns\n",
    "unwanted=['opdhVbp', 'vstId', 'vstDate', 'opdhVpulse',\n",
    "          'opdhVtemp', 'opdhDhtn', 'opdhDihd', 'opdhDhyper',\n",
    "          'pntAge', 'opdhVbmi', 'opdhVheight', 'opdhVweight',\n",
    "          'opdhDdm', 'vstAmount', 'vsrcId']\n",
    "data.drop(unwanted, inplace=True, axis=1)\n",
    "# inplace=true tells pd to make the changes in our object\n",
    "# axis=1 - dropping columns\n",
    "\n",
    "# check for empty cells and replace with 'Pakistan' (default)\n",
    "print('number of empty cells', data.isnull().sum())\n",
    "data['pntAddress']=data['pntAddress'].fillna('Pakistan')\n",
    "print('number of empty cells after fillna', data.isnull().sum(), '\\n')\n",
    "\n",
    "# check the types of data in the addresses column\n",
    "print('type of data in the df ', data.dtypes)\n",
    "print('shape of dataFrame ', np.shape(data), '\\n')"
   ]
  },
  {
   "cell_type": "code",
   "execution_count": null,
   "metadata": {
    "scrolled": true
   },
   "outputs": [],
   "source": [
    "# need to use googlemaps to find lat and loong of addresses\n",
    "with open('api.txt') as f:\n",
    "    myAPIkey=f.readline()\n",
    "# set the api key first\n",
    "gmaps_key=googlemaps.Client(key = myAPIkey)\n",
    "\n",
    "# create empty Lon and Lat columns ... and google maps name\n",
    "# geocode_object should be included too \n",
    "data[\"LAT\"] = None\n",
    "data[\"LON\"] = None\n",
    "data[\"GMAPS_NAME\"] = None\n",
    "data[\"GEOCODE_OBJECT\"] = None\n",
    "data[\"PARTIAL_RESULT\"] = None\n",
    "\n",
    "# find lat, lon for a random 50 addresses and add them to the dataFrame\n",
    "chosen=random.sample(range(0, len(data)), 50)\n",
    "for i in chosen:\n",
    "    geocode_result = gmaps_key.geocode(data['pntAddress'][i]+', Pakistan')\n",
    "    try:\n",
    "        lat = geocode_result[0][\"geometry\"][\"location\"][\"lat\"]\n",
    "        lon = geocode_result[0][\"geometry\"][\"location\"][\"lng\"]\n",
    "        gname = geocode_result[0][\"formatted_address\"]\n",
    "        gdata = geocode_result[0]\n",
    "#         partial = checkPartialMatch(geocode_result)\n",
    "        data.iat[i, data.columns.get_loc(\"LAT\")] = lat\n",
    "        data.iat[i, data.columns.get_loc(\"LON\")] = lon\n",
    "        data.iat[i, data.columns.get_loc(\"GMAPS_NAME\")] = gname\n",
    "        data.iat[i, data.columns.get_loc(\"GEOCODE_OBJECT\")] = gdata\n",
    "#         data.iat[i, data.columns.get_loc(\"PARTIAL_RESULT\")] = partial\n",
    "    except:\n",
    "        gname = None\n",
    "        lat = None \n",
    "        lon = None\n",
    "        print(\"couldn't find address\", i, data['pntAddress'][i])\n",
    "\n",
    "# isloate the lon and lat data\n",
    "latList=data[\"LAT\"].values;\n",
    "lonList=data[\"LON\"].values;\n",
    "\n",
    "# remove any None values for where lon and lat data could not be found\n",
    "# or where address was not searched for\n",
    "latList=latList[latList != np.array(None)]\n",
    "lonList=lonList[lonList != np.array(None)]"
   ]
  },
  {
   "cell_type": "code",
   "execution_count": null,
   "metadata": {
    "scrolled": true
   },
   "outputs": [],
   "source": []
  },
  {
   "cell_type": "code",
   "execution_count": null,
   "metadata": {},
   "outputs": [],
   "source": []
  },
  {
   "cell_type": "code",
   "execution_count": 53,
   "metadata": {},
   "outputs": [
    {
     "ename": "CParserError",
     "evalue": "Error tokenizing data. C error: Buffer overflow caught - possible malformed input file.\n",
     "output_type": "error",
     "traceback": [
      "\u001b[0;31m---------------------------------------------------------------------------\u001b[0m",
      "\u001b[0;31mCParserError\u001b[0m                              Traceback (most recent call last)",
      "\u001b[0;32m<ipython-input-53-7ce38345144f>\u001b[0m in \u001b[0;36m<module>\u001b[0;34m()\u001b[0m\n\u001b[1;32m      1\u001b[0m \u001b[0;31m#let's get the 15000 addresses and produce a csv for github script to run on it\u001b[0m\u001b[0;34m\u001b[0m\u001b[0;34m\u001b[0m\u001b[0m\n\u001b[1;32m      2\u001b[0m \u001b[0;34m\u001b[0m\u001b[0m\n\u001b[0;32m----> 3\u001b[0;31m \u001b[0mdata\u001b[0m \u001b[0;34m=\u001b[0m \u001b[0mpd\u001b[0m\u001b[0;34m.\u001b[0m\u001b[0mread_csv\u001b[0m\u001b[0;34m(\u001b[0m\u001b[0;34m\"./data/PatientData.csv\"\u001b[0m\u001b[0;34m,\u001b[0m \u001b[0mindex_col\u001b[0m\u001b[0;34m=\u001b[0m\u001b[0;36m0\u001b[0m\u001b[0;34m)\u001b[0m\u001b[0;34m\u001b[0m\u001b[0m\n\u001b[0m",
      "\u001b[0;32m/Users/Hikmat/anaconda/lib/python3.6/site-packages/pandas/io/parsers.py\u001b[0m in \u001b[0;36mparser_f\u001b[0;34m(filepath_or_buffer, sep, delimiter, header, names, index_col, usecols, squeeze, prefix, mangle_dupe_cols, dtype, engine, converters, true_values, false_values, skipinitialspace, skiprows, nrows, na_values, keep_default_na, na_filter, verbose, skip_blank_lines, parse_dates, infer_datetime_format, keep_date_col, date_parser, dayfirst, iterator, chunksize, compression, thousands, decimal, lineterminator, quotechar, quoting, escapechar, comment, encoding, dialect, tupleize_cols, error_bad_lines, warn_bad_lines, skipfooter, skip_footer, doublequote, delim_whitespace, as_recarray, compact_ints, use_unsigned, low_memory, buffer_lines, memory_map, float_precision)\u001b[0m\n\u001b[1;32m    644\u001b[0m                     skip_blank_lines=skip_blank_lines)\n\u001b[1;32m    645\u001b[0m \u001b[0;34m\u001b[0m\u001b[0m\n\u001b[0;32m--> 646\u001b[0;31m         \u001b[0;32mreturn\u001b[0m \u001b[0m_read\u001b[0m\u001b[0;34m(\u001b[0m\u001b[0mfilepath_or_buffer\u001b[0m\u001b[0;34m,\u001b[0m \u001b[0mkwds\u001b[0m\u001b[0;34m)\u001b[0m\u001b[0;34m\u001b[0m\u001b[0m\n\u001b[0m\u001b[1;32m    647\u001b[0m \u001b[0;34m\u001b[0m\u001b[0m\n\u001b[1;32m    648\u001b[0m     \u001b[0mparser_f\u001b[0m\u001b[0;34m.\u001b[0m\u001b[0m__name__\u001b[0m \u001b[0;34m=\u001b[0m \u001b[0mname\u001b[0m\u001b[0;34m\u001b[0m\u001b[0m\n",
      "\u001b[0;32m/Users/Hikmat/anaconda/lib/python3.6/site-packages/pandas/io/parsers.py\u001b[0m in \u001b[0;36m_read\u001b[0;34m(filepath_or_buffer, kwds)\u001b[0m\n\u001b[1;32m    399\u001b[0m         \u001b[0;32mreturn\u001b[0m \u001b[0mparser\u001b[0m\u001b[0;34m\u001b[0m\u001b[0m\n\u001b[1;32m    400\u001b[0m \u001b[0;34m\u001b[0m\u001b[0m\n\u001b[0;32m--> 401\u001b[0;31m     \u001b[0mdata\u001b[0m \u001b[0;34m=\u001b[0m \u001b[0mparser\u001b[0m\u001b[0;34m.\u001b[0m\u001b[0mread\u001b[0m\u001b[0;34m(\u001b[0m\u001b[0;34m)\u001b[0m\u001b[0;34m\u001b[0m\u001b[0m\n\u001b[0m\u001b[1;32m    402\u001b[0m     \u001b[0mparser\u001b[0m\u001b[0;34m.\u001b[0m\u001b[0mclose\u001b[0m\u001b[0;34m(\u001b[0m\u001b[0;34m)\u001b[0m\u001b[0;34m\u001b[0m\u001b[0m\n\u001b[1;32m    403\u001b[0m     \u001b[0;32mreturn\u001b[0m \u001b[0mdata\u001b[0m\u001b[0;34m\u001b[0m\u001b[0m\n",
      "\u001b[0;32m/Users/Hikmat/anaconda/lib/python3.6/site-packages/pandas/io/parsers.py\u001b[0m in \u001b[0;36mread\u001b[0;34m(self, nrows)\u001b[0m\n\u001b[1;32m    937\u001b[0m                 \u001b[0;32mraise\u001b[0m \u001b[0mValueError\u001b[0m\u001b[0;34m(\u001b[0m\u001b[0;34m'skipfooter not supported for iteration'\u001b[0m\u001b[0;34m)\u001b[0m\u001b[0;34m\u001b[0m\u001b[0m\n\u001b[1;32m    938\u001b[0m \u001b[0;34m\u001b[0m\u001b[0m\n\u001b[0;32m--> 939\u001b[0;31m         \u001b[0mret\u001b[0m \u001b[0;34m=\u001b[0m \u001b[0mself\u001b[0m\u001b[0;34m.\u001b[0m\u001b[0m_engine\u001b[0m\u001b[0;34m.\u001b[0m\u001b[0mread\u001b[0m\u001b[0;34m(\u001b[0m\u001b[0mnrows\u001b[0m\u001b[0;34m)\u001b[0m\u001b[0;34m\u001b[0m\u001b[0m\n\u001b[0m\u001b[1;32m    940\u001b[0m \u001b[0;34m\u001b[0m\u001b[0m\n\u001b[1;32m    941\u001b[0m         \u001b[0;32mif\u001b[0m \u001b[0mself\u001b[0m\u001b[0;34m.\u001b[0m\u001b[0moptions\u001b[0m\u001b[0;34m.\u001b[0m\u001b[0mget\u001b[0m\u001b[0;34m(\u001b[0m\u001b[0;34m'as_recarray'\u001b[0m\u001b[0;34m)\u001b[0m\u001b[0;34m:\u001b[0m\u001b[0;34m\u001b[0m\u001b[0m\n",
      "\u001b[0;32m/Users/Hikmat/anaconda/lib/python3.6/site-packages/pandas/io/parsers.py\u001b[0m in \u001b[0;36mread\u001b[0;34m(self, nrows)\u001b[0m\n\u001b[1;32m   1506\u001b[0m     \u001b[0;32mdef\u001b[0m \u001b[0mread\u001b[0m\u001b[0;34m(\u001b[0m\u001b[0mself\u001b[0m\u001b[0;34m,\u001b[0m \u001b[0mnrows\u001b[0m\u001b[0;34m=\u001b[0m\u001b[0;32mNone\u001b[0m\u001b[0;34m)\u001b[0m\u001b[0;34m:\u001b[0m\u001b[0;34m\u001b[0m\u001b[0m\n\u001b[1;32m   1507\u001b[0m         \u001b[0;32mtry\u001b[0m\u001b[0;34m:\u001b[0m\u001b[0;34m\u001b[0m\u001b[0m\n\u001b[0;32m-> 1508\u001b[0;31m             \u001b[0mdata\u001b[0m \u001b[0;34m=\u001b[0m \u001b[0mself\u001b[0m\u001b[0;34m.\u001b[0m\u001b[0m_reader\u001b[0m\u001b[0;34m.\u001b[0m\u001b[0mread\u001b[0m\u001b[0;34m(\u001b[0m\u001b[0mnrows\u001b[0m\u001b[0;34m)\u001b[0m\u001b[0;34m\u001b[0m\u001b[0m\n\u001b[0m\u001b[1;32m   1509\u001b[0m         \u001b[0;32mexcept\u001b[0m \u001b[0mStopIteration\u001b[0m\u001b[0;34m:\u001b[0m\u001b[0;34m\u001b[0m\u001b[0m\n\u001b[1;32m   1510\u001b[0m             \u001b[0;32mif\u001b[0m \u001b[0mself\u001b[0m\u001b[0;34m.\u001b[0m\u001b[0m_first_chunk\u001b[0m\u001b[0;34m:\u001b[0m\u001b[0;34m\u001b[0m\u001b[0m\n",
      "\u001b[0;32mpandas/parser.pyx\u001b[0m in \u001b[0;36mpandas.parser.TextReader.read (pandas/parser.c:10415)\u001b[0;34m()\u001b[0m\n",
      "\u001b[0;32mpandas/parser.pyx\u001b[0m in \u001b[0;36mpandas.parser.TextReader._read_low_memory (pandas/parser.c:10691)\u001b[0;34m()\u001b[0m\n",
      "\u001b[0;32mpandas/parser.pyx\u001b[0m in \u001b[0;36mpandas.parser.TextReader._read_rows (pandas/parser.c:11437)\u001b[0;34m()\u001b[0m\n",
      "\u001b[0;32mpandas/parser.pyx\u001b[0m in \u001b[0;36mpandas.parser.TextReader._tokenize_rows (pandas/parser.c:11308)\u001b[0;34m()\u001b[0m\n",
      "\u001b[0;32mpandas/parser.pyx\u001b[0m in \u001b[0;36mpandas.parser.raise_parser_error (pandas/parser.c:27037)\u001b[0;34m()\u001b[0m\n",
      "\u001b[0;31mCParserError\u001b[0m: Error tokenizing data. C error: Buffer overflow caught - possible malformed input file.\n"
     ]
    }
   ],
   "source": [
    "#let's get the 15000 addresses and produce a csv for github script to run on it\n",
    "\n",
    "data = pd.read_csv(\"./data/PatientData.csv\", index_col=0)"
   ]
  },
  {
   "cell_type": "code",
   "execution_count": 68,
   "metadata": {},
   "outputs": [],
   "source": [
    "import csv\n",
    "with open(r'./data/PtData.csv','r') as f:\n",
    "    reader = csv.reader(f)\n",
    "    linenumber = 1\n",
    "    try:\n",
    "        for row in reader:\n",
    "            linenumber += 1\n",
    "    except Exception as e:\n",
    "        print ((\"Error line %d: %s %s\" % (linenumber, str(type(e)), e.message)))"
   ]
  },
  {
   "cell_type": "code",
   "execution_count": null,
   "metadata": {},
   "outputs": [],
   "source": []
  },
  {
   "cell_type": "code",
   "execution_count": null,
   "metadata": {},
   "outputs": [],
   "source": []
  },
  {
   "cell_type": "code",
   "execution_count": 78,
   "metadata": {},
   "outputs": [],
   "source": [
    "data=pd.read_csv('./data/PtData.csv', index_col=0)"
   ]
  },
  {
   "cell_type": "code",
   "execution_count": 82,
   "metadata": {
    "scrolled": true
   },
   "outputs": [
    {
     "data": {
      "text/plain": [
       "30"
      ]
     },
     "execution_count": 82,
     "metadata": {},
     "output_type": "execute_result"
    }
   ],
   "source": [
    "data['pntAddress'].str.contains('\\r', regex=False).sum()"
   ]
  },
  {
   "cell_type": "code",
   "execution_count": null,
   "metadata": {},
   "outputs": [],
   "source": []
  },
  {
   "cell_type": "code",
   "execution_count": 83,
   "metadata": {},
   "outputs": [
    {
     "name": "stdout",
     "output_type": "stream",
     "text": [
      "number of empty cells pntAge         2\n",
      "pntGender      0\n",
      "pntAddress    96\n",
      "pntRegDate     0\n",
      "dtype: int64\n",
      "number of empty cells after fillna pntAge        2\n",
      "pntGender     0\n",
      "pntAddress    0\n",
      "pntRegDate    0\n",
      "dtype: int64 \n",
      "\n",
      "type of data in the df  pntAge        float64\n",
      "pntGender      object\n",
      "pntAddress     object\n",
      "pntRegDate     object\n",
      "dtype: object\n",
      "shape of dataFrame  (15158, 4) \n",
      "\n"
     ]
    }
   ],
   "source": [
    "# remove unwanted columns\n",
    "# unwanted=['opdhVbp', 'vstId', 'vstDate', 'opdhVpulse',\n",
    "#           'opdhVtemp', 'opdhDhtn', 'opdhDihd', 'opdhDhyper',\n",
    "#           'pntAge', 'opdhVbmi', 'opdhVheight', 'opdhVweight',\n",
    "#           'opdhDdm', 'vstAmount', 'vsrcId']\n",
    "# data.drop(unwanted, inplace=True, axis=1)\n",
    "# inplace=true tells pd to make the changes in our object\n",
    "# axis=1 - dropping columns\n",
    "\n",
    "data = data.replace(r'\\r','', regex=True) \n",
    "\n",
    "# check for empty cells and replace with 'Pakistan' (default)\n",
    "print('number of empty cells', data.isnull().sum())\n",
    "data['pntAddress']=data['pntAddress'].fillna('Pakistan')\n",
    "print('number of empty cells after fillna', data.isnull().sum(), '\\n')\n",
    "\n",
    "# check the types of data in the addresses column\n",
    "print('type of data in the df ', data.dtypes)\n",
    "print('shape of dataFrame ', np.shape(data), '\\n')"
   ]
  },
  {
   "cell_type": "code",
   "execution_count": 84,
   "metadata": {},
   "outputs": [],
   "source": [
    "data.to_csv('./data/CleanPtData.csv')"
   ]
  },
  {
   "cell_type": "code",
   "execution_count": null,
   "metadata": {
    "scrolled": true
   },
   "outputs": [],
   "source": []
  },
  {
   "cell_type": "code",
   "execution_count": null,
   "metadata": {},
   "outputs": [],
   "source": []
  },
  {
   "cell_type": "code",
   "execution_count": null,
   "metadata": {},
   "outputs": [],
   "source": []
  },
  {
   "cell_type": "code",
   "execution_count": null,
   "metadata": {},
   "outputs": [],
   "source": []
  },
  {
   "cell_type": "code",
   "execution_count": null,
   "metadata": {},
   "outputs": [],
   "source": []
  }
 ],
 "metadata": {
  "kernelspec": {
   "display_name": "Python 3",
   "language": "python",
   "name": "python3"
  },
  "language_info": {
   "codemirror_mode": {
    "name": "ipython",
    "version": 3
   },
   "file_extension": ".py",
   "mimetype": "text/x-python",
   "name": "python",
   "nbconvert_exporter": "python",
   "pygments_lexer": "ipython3",
   "version": "3.6.6"
  }
 },
 "nbformat": 4,
 "nbformat_minor": 2
}
